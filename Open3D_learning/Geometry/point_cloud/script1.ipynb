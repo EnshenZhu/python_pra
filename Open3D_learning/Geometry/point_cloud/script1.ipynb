{
 "cells": [
  {
   "cell_type": "code",
   "execution_count": 1,
   "id": "f0eba0ae",
   "metadata": {},
   "outputs": [
    {
     "name": "stdout",
     "output_type": "stream",
     "text": [
      "Jupyter environment detected. Enabling Open3D WebVisualizer.\n",
      "[Open3D INFO] WebRTC GUI backend enabled.\n",
      "[Open3D INFO] WebRTCWindowSystem: HTTP handshake server disabled.\n"
     ]
    }
   ],
   "source": [
    "import open3d as o3d\n",
    "import numpy as np\n",
    "import copy\n",
    "import time\n",
    "import os\n",
    "import sys\n",
    "import pandas as pd"
   ]
  },
  {
   "cell_type": "code",
   "execution_count": 2,
   "id": "70bf29a1",
   "metadata": {},
   "outputs": [
    {
     "name": "stdout",
     "output_type": "stream",
     "text": [
      "            1         2         3\n",
      "0    0.524606  0.675098 -0.021419\n",
      "1    0.524134  0.628257 -0.034960\n",
      "2    0.524757  0.641571 -0.019187\n",
      "3    0.518863  0.589718 -0.024071\n",
      "4    0.523975  0.615806 -0.036730\n",
      "..        ...       ...       ...\n",
      "473  0.557430  0.553579  0.006053\n",
      "474  0.563593  0.553342  0.006053\n",
      "475  0.557327  0.544035  0.006053\n",
      "476  0.551414  0.553678  0.006053\n",
      "477  0.557613  0.563182  0.006053\n",
      "\n",
      "[478 rows x 3 columns]\n"
     ]
    }
   ],
   "source": [
    "data=pd.read_csv(\"./assets/landmarks_frame0.csv\",header=None,usecols=range(1,4))\n",
    "print(data)"
   ]
  },
  {
   "cell_type": "markdown",
   "id": "4b7b3650",
   "metadata": {},
   "source": [
    "# Point cloud\n",
    "This tutorial demonstrates basci usage of a point cloud."
   ]
  },
  {
   "cell_type": "markdown",
   "id": "8d83a2ba",
   "metadata": {},
   "source": [
    "## Visualize point cloud\n",
    "The first part of the tutorial reads a point cloud and vuisualizes it."
   ]
  },
  {
   "cell_type": "code",
   "execution_count": 3,
   "id": "9dcc1b99",
   "metadata": {},
   "outputs": [
    {
     "name": "stdout",
     "output_type": "stream",
     "text": [
      "Load a ply point cloud, print it, and render it\n"
     ]
    },
    {
     "ename": "TypeError",
     "evalue": "read_point_cloud(): incompatible function arguments. The following argument types are supported:\n    1. (filename: str, format: str = 'auto', remove_nan_points: bool = False, remove_infinite_points: bool = False, print_progress: bool = False) -> open3d.cpu.pybind.geometry.PointCloud\n\nInvoked with:             1         2         3\n0    0.524606  0.675098 -0.021419\n1    0.524134  0.628257 -0.034960\n2    0.524757  0.641571 -0.019187\n3    0.518863  0.589718 -0.024071\n4    0.523975  0.615806 -0.036730\n..        ...       ...       ...\n473  0.557430  0.553579  0.006053\n474  0.563593  0.553342  0.006053\n475  0.557327  0.544035  0.006053\n476  0.551414  0.553678  0.006053\n477  0.557613  0.563182  0.006053\n\n[478 rows x 3 columns]; kwargs: format='xyz'",
     "output_type": "error",
     "traceback": [
      "\u001b[1;31m---------------------------------------------------------------------------\u001b[0m",
      "\u001b[1;31mTypeError\u001b[0m                                 Traceback (most recent call last)",
      "Input \u001b[1;32mIn [3]\u001b[0m, in \u001b[0;36m<cell line: 4>\u001b[1;34m()\u001b[0m\n\u001b[0;32m      1\u001b[0m \u001b[38;5;28mprint\u001b[39m(\u001b[38;5;124m\"\u001b[39m\u001b[38;5;124mLoad a ply point cloud, print it, and render it\u001b[39m\u001b[38;5;124m\"\u001b[39m)\n\u001b[0;32m      2\u001b[0m \u001b[38;5;66;03m# ply_point_cloud = o3d.data.PLYPointCloud()\u001b[39;00m\n\u001b[0;32m      3\u001b[0m \u001b[38;5;66;03m# pcd = o3d.io.read_point_cloud(data,format=\"xyz\")\u001b[39;00m\n\u001b[1;32m----> 4\u001b[0m pcd \u001b[38;5;241m=\u001b[39m \u001b[43mo3d\u001b[49m\u001b[38;5;241;43m.\u001b[39;49m\u001b[43mio\u001b[49m\u001b[38;5;241;43m.\u001b[39;49m\u001b[43mread_point_cloud\u001b[49m\u001b[43m(\u001b[49m\u001b[43mdata\u001b[49m\u001b[43m,\u001b[49m\u001b[38;5;28;43mformat\u001b[39;49m\u001b[38;5;241;43m=\u001b[39;49m\u001b[38;5;124;43m\"\u001b[39;49m\u001b[38;5;124;43mxyz\u001b[39;49m\u001b[38;5;124;43m\"\u001b[39;49m\u001b[43m)\u001b[49m\n\u001b[0;32m      6\u001b[0m \u001b[38;5;28mprint\u001b[39m(pcd)\n\u001b[0;32m      7\u001b[0m \u001b[38;5;28mprint\u001b[39m(np\u001b[38;5;241m.\u001b[39masarray(pcd\u001b[38;5;241m.\u001b[39mpoints))\n",
      "\u001b[1;31mTypeError\u001b[0m: read_point_cloud(): incompatible function arguments. The following argument types are supported:\n    1. (filename: str, format: str = 'auto', remove_nan_points: bool = False, remove_infinite_points: bool = False, print_progress: bool = False) -> open3d.cpu.pybind.geometry.PointCloud\n\nInvoked with:             1         2         3\n0    0.524606  0.675098 -0.021419\n1    0.524134  0.628257 -0.034960\n2    0.524757  0.641571 -0.019187\n3    0.518863  0.589718 -0.024071\n4    0.523975  0.615806 -0.036730\n..        ...       ...       ...\n473  0.557430  0.553579  0.006053\n474  0.563593  0.553342  0.006053\n475  0.557327  0.544035  0.006053\n476  0.551414  0.553678  0.006053\n477  0.557613  0.563182  0.006053\n\n[478 rows x 3 columns]; kwargs: format='xyz'"
     ]
    }
   ],
   "source": [
    "print(\"Load a ply point cloud, print it, and render it\")\n",
    "# ply_point_cloud = o3d.data.PLYPointCloud()\n",
    "# pcd = o3d.io.read_point_cloud(data,format=\"xyz\")\n",
    "pcd = o3d.io.read_point_cloud(data,format=\"xyz\")\n",
    "\n",
    "print(pcd)\n",
    "print(np.asarray(pcd.points))\n",
    "o3d.visualization.draw_geometries([pcd],\n",
    "                                  zoom=0.3412,\n",
    "                                  front=[0.4257, -0.2125, -0.8795],\n",
    "                                  lookat=[2.6172, 2.0475, 1.532],\n",
    "                                  up=[-0.0694, -0.9768, 0.2024])"
   ]
  },
  {
   "cell_type": "code",
   "execution_count": null,
   "id": "d000c040",
   "metadata": {},
   "outputs": [],
   "source": []
  }
 ],
 "metadata": {
  "kernelspec": {
   "display_name": "Python 3 (ipykernel)",
   "language": "python",
   "name": "python3"
  },
  "language_info": {
   "codemirror_mode": {
    "name": "ipython",
    "version": 3
   },
   "file_extension": ".py",
   "mimetype": "text/x-python",
   "name": "python",
   "nbconvert_exporter": "python",
   "pygments_lexer": "ipython3",
   "version": "3.9.12"
  }
 },
 "nbformat": 4,
 "nbformat_minor": 5
}
