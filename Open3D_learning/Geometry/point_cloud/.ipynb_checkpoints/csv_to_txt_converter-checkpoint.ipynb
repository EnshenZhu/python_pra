{
 "cells": [
  {
   "cell_type": "markdown",
   "id": "71d20ade",
   "metadata": {},
   "source": [
    "This script is going to comebine the functions as follow:\n",
    "1. import scv, trim the data and save it as the txt\n",
    "2. make open3d to read txt file and generate tyhe points cloud"
   ]
  },
  {
   "cell_type": "code",
   "execution_count": 1,
   "id": "191fb203",
   "metadata": {},
   "outputs": [
    {
     "name": "stdout",
     "output_type": "stream",
     "text": [
      "Jupyter environment detected. Enabling Open3D WebVisualizer.\n",
      "[Open3D INFO] WebRTC GUI backend enabled.\n",
      "[Open3D INFO] WebRTCWindowSystem: HTTP handshake server disabled.\n"
     ]
    }
   ],
   "source": [
    "import open3d as o3d\n",
    "import numpy as np\n",
    "import copy\n",
    "import time\n",
    "import os\n",
    "import sys\n",
    "import pandas as pd"
   ]
  },
  {
   "cell_type": "code",
   "execution_count": 2,
   "id": "90caf4d4",
   "metadata": {},
   "outputs": [],
   "source": [
    "FILE_NAME=\"landmarks_frame0\"\n",
    "csv_path=\"./assets/csv/\"+FILE_NAME+'.csv'\n",
    "txt_path=\"./assets/txt/\"+FILE_NAME+'.txt'"
   ]
  },
  {
   "cell_type": "code",
   "execution_count": 3,
   "id": "42f89722",
   "metadata": {},
   "outputs": [
    {
     "name": "stdout",
     "output_type": "stream",
     "text": [
      "            1         2         3\n",
      "0    0.524606  0.675098 -0.021419\n",
      "1    0.524134  0.628257 -0.034960\n",
      "2    0.524757  0.641571 -0.019187\n",
      "3    0.518863  0.589718 -0.024071\n",
      "4    0.523975  0.615806 -0.036730\n",
      "..        ...       ...       ...\n",
      "473  0.557430  0.553579  0.006053\n",
      "474  0.563593  0.553342  0.006053\n",
      "475  0.557327  0.544035  0.006053\n",
      "476  0.551414  0.553678  0.006053\n",
      "477  0.557613  0.563182  0.006053\n",
      "\n",
      "[478 rows x 3 columns]\n"
     ]
    }
   ],
   "source": [
    "df=pd.read_csv(csv_path,header=None,usecols=range(1,4))\n",
    "print(df)"
   ]
  },
  {
   "cell_type": "code",
   "execution_count": 4,
   "id": "e15857bb",
   "metadata": {},
   "outputs": [
    {
     "name": "stdout",
     "output_type": "stream",
     "text": [
      "<class 'numpy.float64'>\n"
     ]
    }
   ],
   "source": [
    "print(type(df.iat[0,1]))"
   ]
  },
  {
   "cell_type": "code",
   "execution_count": 5,
   "id": "107ab8d7",
   "metadata": {},
   "outputs": [],
   "source": [
    "np.savetxt(txt_path,df.values,fmt='%.20f')"
   ]
  }
 ],
 "metadata": {
  "kernelspec": {
   "display_name": "Python 3 (ipykernel)",
   "language": "python",
   "name": "python3"
  },
  "language_info": {
   "codemirror_mode": {
    "name": "ipython",
    "version": 3
   },
   "file_extension": ".py",
   "mimetype": "text/x-python",
   "name": "python",
   "nbconvert_exporter": "python",
   "pygments_lexer": "ipython3",
   "version": "3.9.12"
  }
 },
 "nbformat": 4,
 "nbformat_minor": 5
}
